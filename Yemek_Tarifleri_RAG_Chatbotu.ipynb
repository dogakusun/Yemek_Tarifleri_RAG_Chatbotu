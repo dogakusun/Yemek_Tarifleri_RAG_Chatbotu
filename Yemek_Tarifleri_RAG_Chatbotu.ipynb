{
  "nbformat": 4,
  "nbformat_minor": 0,
  "metadata": {
    "colab": {
      "provenance": [],
      "authorship_tag": "ABX9TyObqMXddccMDaMbbh2kQJE4",
      "include_colab_link": true
    },
    "kernelspec": {
      "name": "python3",
      "display_name": "Python 3"
    },
    "language_info": {
      "name": "python"
    }
  },
  "cells": [
    {
      "cell_type": "markdown",
      "metadata": {
        "id": "view-in-github",
        "colab_type": "text"
      },
      "source": [
        "<a href=\"https://colab.research.google.com/github/dogakusun/Yemek_Tarifleri_RAG_Chatbotu/blob/main/Yemek_Tarifleri_RAG_Chatbotu.ipynb\" target=\"_parent\"><img src=\"https://colab.research.google.com/assets/colab-badge.svg\" alt=\"Open In Colab\"/></a>"
      ]
    },
    {
      "cell_type": "code",
      "execution_count": 31,
      "metadata": {
        "id": "8plGs0xdCcXI"
      },
      "outputs": [],
      "source": [
        "# Gerekli kütüphaneleri kurma\n",
        "!pip install -q google-genai langchain langchain-community chromadb streamlit datasets pypdf"
      ]
    },
    {
      "cell_type": "code",
      "source": [
        "!pip install langchain-google-genai"
      ],
      "metadata": {
        "colab": {
          "base_uri": "https://localhost:8080/"
        },
        "id": "Ga3mj8YcSCoW",
        "outputId": "4100a494-fd25-4487-fd10-837653c7a7aa"
      },
      "execution_count": 32,
      "outputs": [
        {
          "output_type": "stream",
          "name": "stdout",
          "text": [
            "Requirement already satisfied: langchain-google-genai in /usr/local/lib/python3.12/dist-packages (3.0.0)\n",
            "Requirement already satisfied: langchain-core<2.0.0,>=1.0.0 in /usr/local/lib/python3.12/dist-packages (from langchain-google-genai) (1.0.0)\n",
            "Requirement already satisfied: google-ai-generativelanguage<1.0.0,>=0.7.0 in /usr/local/lib/python3.12/dist-packages (from langchain-google-genai) (0.9.0)\n",
            "Requirement already satisfied: pydantic<3.0.0,>=2.0.0 in /usr/local/lib/python3.12/dist-packages (from langchain-google-genai) (2.12.3)\n",
            "Requirement already satisfied: filetype<2.0.0,>=1.2.0 in /usr/local/lib/python3.12/dist-packages (from langchain-google-genai) (1.2.0)\n",
            "Requirement already satisfied: google-api-core!=2.0.*,!=2.1.*,!=2.10.*,!=2.2.*,!=2.3.*,!=2.4.*,!=2.5.*,!=2.6.*,!=2.7.*,!=2.8.*,!=2.9.*,<3.0.0,>=1.34.1 in /usr/local/lib/python3.12/dist-packages (from google-api-core[grpc]!=2.0.*,!=2.1.*,!=2.10.*,!=2.2.*,!=2.3.*,!=2.4.*,!=2.5.*,!=2.6.*,!=2.7.*,!=2.8.*,!=2.9.*,<3.0.0,>=1.34.1->google-ai-generativelanguage<1.0.0,>=0.7.0->langchain-google-genai) (2.26.0)\n",
            "Requirement already satisfied: google-auth!=2.24.0,!=2.25.0,<3.0.0,>=2.14.1 in /usr/local/lib/python3.12/dist-packages (from google-ai-generativelanguage<1.0.0,>=0.7.0->langchain-google-genai) (2.41.1)\n",
            "Requirement already satisfied: grpcio<2.0.0,>=1.33.2 in /usr/local/lib/python3.12/dist-packages (from google-ai-generativelanguage<1.0.0,>=0.7.0->langchain-google-genai) (1.76.0)\n",
            "Requirement already satisfied: proto-plus<2.0.0,>=1.22.3 in /usr/local/lib/python3.12/dist-packages (from google-ai-generativelanguage<1.0.0,>=0.7.0->langchain-google-genai) (1.26.1)\n",
            "Requirement already satisfied: protobuf!=4.21.0,!=4.21.1,!=4.21.2,!=4.21.3,!=4.21.4,!=4.21.5,<7.0.0,>=3.20.2 in /usr/local/lib/python3.12/dist-packages (from google-ai-generativelanguage<1.0.0,>=0.7.0->langchain-google-genai) (6.33.0)\n",
            "Requirement already satisfied: jsonpatch<2.0.0,>=1.33.0 in /usr/local/lib/python3.12/dist-packages (from langchain-core<2.0.0,>=1.0.0->langchain-google-genai) (1.33)\n",
            "Requirement already satisfied: langsmith<1.0.0,>=0.3.45 in /usr/local/lib/python3.12/dist-packages (from langchain-core<2.0.0,>=1.0.0->langchain-google-genai) (0.4.37)\n",
            "Requirement already satisfied: packaging<26.0.0,>=23.2.0 in /usr/local/lib/python3.12/dist-packages (from langchain-core<2.0.0,>=1.0.0->langchain-google-genai) (25.0)\n",
            "Requirement already satisfied: pyyaml<7.0.0,>=5.3.0 in /usr/local/lib/python3.12/dist-packages (from langchain-core<2.0.0,>=1.0.0->langchain-google-genai) (6.0.3)\n",
            "Requirement already satisfied: tenacity!=8.4.0,<10.0.0,>=8.1.0 in /usr/local/lib/python3.12/dist-packages (from langchain-core<2.0.0,>=1.0.0->langchain-google-genai) (9.1.2)\n",
            "Requirement already satisfied: typing-extensions<5.0.0,>=4.7.0 in /usr/local/lib/python3.12/dist-packages (from langchain-core<2.0.0,>=1.0.0->langchain-google-genai) (4.15.0)\n",
            "Requirement already satisfied: annotated-types>=0.6.0 in /usr/local/lib/python3.12/dist-packages (from pydantic<3.0.0,>=2.0.0->langchain-google-genai) (0.7.0)\n",
            "Requirement already satisfied: pydantic-core==2.41.4 in /usr/local/lib/python3.12/dist-packages (from pydantic<3.0.0,>=2.0.0->langchain-google-genai) (2.41.4)\n",
            "Requirement already satisfied: typing-inspection>=0.4.2 in /usr/local/lib/python3.12/dist-packages (from pydantic<3.0.0,>=2.0.0->langchain-google-genai) (0.4.2)\n",
            "Requirement already satisfied: googleapis-common-protos<2.0.0,>=1.56.2 in /usr/local/lib/python3.12/dist-packages (from google-api-core!=2.0.*,!=2.1.*,!=2.10.*,!=2.2.*,!=2.3.*,!=2.4.*,!=2.5.*,!=2.6.*,!=2.7.*,!=2.8.*,!=2.9.*,<3.0.0,>=1.34.1->google-api-core[grpc]!=2.0.*,!=2.1.*,!=2.10.*,!=2.2.*,!=2.3.*,!=2.4.*,!=2.5.*,!=2.6.*,!=2.7.*,!=2.8.*,!=2.9.*,<3.0.0,>=1.34.1->google-ai-generativelanguage<1.0.0,>=0.7.0->langchain-google-genai) (1.71.0)\n",
            "Requirement already satisfied: requests<3.0.0,>=2.18.0 in /usr/local/lib/python3.12/dist-packages (from google-api-core!=2.0.*,!=2.1.*,!=2.10.*,!=2.2.*,!=2.3.*,!=2.4.*,!=2.5.*,!=2.6.*,!=2.7.*,!=2.8.*,!=2.9.*,<3.0.0,>=1.34.1->google-api-core[grpc]!=2.0.*,!=2.1.*,!=2.10.*,!=2.2.*,!=2.3.*,!=2.4.*,!=2.5.*,!=2.6.*,!=2.7.*,!=2.8.*,!=2.9.*,<3.0.0,>=1.34.1->google-ai-generativelanguage<1.0.0,>=0.7.0->langchain-google-genai) (2.32.5)\n",
            "Requirement already satisfied: grpcio-status<2.0.0,>=1.33.2 in /usr/local/lib/python3.12/dist-packages (from google-api-core[grpc]!=2.0.*,!=2.1.*,!=2.10.*,!=2.2.*,!=2.3.*,!=2.4.*,!=2.5.*,!=2.6.*,!=2.7.*,!=2.8.*,!=2.9.*,<3.0.0,>=1.34.1->google-ai-generativelanguage<1.0.0,>=0.7.0->langchain-google-genai) (1.76.0)\n",
            "Requirement already satisfied: cachetools<7.0,>=2.0.0 in /usr/local/lib/python3.12/dist-packages (from google-auth!=2.24.0,!=2.25.0,<3.0.0,>=2.14.1->google-ai-generativelanguage<1.0.0,>=0.7.0->langchain-google-genai) (6.2.1)\n",
            "Requirement already satisfied: pyasn1-modules>=0.2.1 in /usr/local/lib/python3.12/dist-packages (from google-auth!=2.24.0,!=2.25.0,<3.0.0,>=2.14.1->google-ai-generativelanguage<1.0.0,>=0.7.0->langchain-google-genai) (0.4.2)\n",
            "Requirement already satisfied: rsa<5,>=3.1.4 in /usr/local/lib/python3.12/dist-packages (from google-auth!=2.24.0,!=2.25.0,<3.0.0,>=2.14.1->google-ai-generativelanguage<1.0.0,>=0.7.0->langchain-google-genai) (4.9.1)\n",
            "Requirement already satisfied: jsonpointer>=1.9 in /usr/local/lib/python3.12/dist-packages (from jsonpatch<2.0.0,>=1.33.0->langchain-core<2.0.0,>=1.0.0->langchain-google-genai) (3.0.0)\n",
            "Requirement already satisfied: httpx<1,>=0.23.0 in /usr/local/lib/python3.12/dist-packages (from langsmith<1.0.0,>=0.3.45->langchain-core<2.0.0,>=1.0.0->langchain-google-genai) (0.28.1)\n",
            "Requirement already satisfied: orjson>=3.9.14 in /usr/local/lib/python3.12/dist-packages (from langsmith<1.0.0,>=0.3.45->langchain-core<2.0.0,>=1.0.0->langchain-google-genai) (3.11.3)\n",
            "Requirement already satisfied: requests-toolbelt>=1.0.0 in /usr/local/lib/python3.12/dist-packages (from langsmith<1.0.0,>=0.3.45->langchain-core<2.0.0,>=1.0.0->langchain-google-genai) (1.0.0)\n",
            "Requirement already satisfied: zstandard>=0.23.0 in /usr/local/lib/python3.12/dist-packages (from langsmith<1.0.0,>=0.3.45->langchain-core<2.0.0,>=1.0.0->langchain-google-genai) (0.25.0)\n",
            "Requirement already satisfied: anyio in /usr/local/lib/python3.12/dist-packages (from httpx<1,>=0.23.0->langsmith<1.0.0,>=0.3.45->langchain-core<2.0.0,>=1.0.0->langchain-google-genai) (4.11.0)\n",
            "Requirement already satisfied: certifi in /usr/local/lib/python3.12/dist-packages (from httpx<1,>=0.23.0->langsmith<1.0.0,>=0.3.45->langchain-core<2.0.0,>=1.0.0->langchain-google-genai) (2025.10.5)\n",
            "Requirement already satisfied: httpcore==1.* in /usr/local/lib/python3.12/dist-packages (from httpx<1,>=0.23.0->langsmith<1.0.0,>=0.3.45->langchain-core<2.0.0,>=1.0.0->langchain-google-genai) (1.0.9)\n",
            "Requirement already satisfied: idna in /usr/local/lib/python3.12/dist-packages (from httpx<1,>=0.23.0->langsmith<1.0.0,>=0.3.45->langchain-core<2.0.0,>=1.0.0->langchain-google-genai) (3.11)\n",
            "Requirement already satisfied: h11>=0.16 in /usr/local/lib/python3.12/dist-packages (from httpcore==1.*->httpx<1,>=0.23.0->langsmith<1.0.0,>=0.3.45->langchain-core<2.0.0,>=1.0.0->langchain-google-genai) (0.16.0)\n",
            "Requirement already satisfied: pyasn1<0.7.0,>=0.6.1 in /usr/local/lib/python3.12/dist-packages (from pyasn1-modules>=0.2.1->google-auth!=2.24.0,!=2.25.0,<3.0.0,>=2.14.1->google-ai-generativelanguage<1.0.0,>=0.7.0->langchain-google-genai) (0.6.1)\n",
            "Requirement already satisfied: charset_normalizer<4,>=2 in /usr/local/lib/python3.12/dist-packages (from requests<3.0.0,>=2.18.0->google-api-core!=2.0.*,!=2.1.*,!=2.10.*,!=2.2.*,!=2.3.*,!=2.4.*,!=2.5.*,!=2.6.*,!=2.7.*,!=2.8.*,!=2.9.*,<3.0.0,>=1.34.1->google-api-core[grpc]!=2.0.*,!=2.1.*,!=2.10.*,!=2.2.*,!=2.3.*,!=2.4.*,!=2.5.*,!=2.6.*,!=2.7.*,!=2.8.*,!=2.9.*,<3.0.0,>=1.34.1->google-ai-generativelanguage<1.0.0,>=0.7.0->langchain-google-genai) (3.4.4)\n",
            "Requirement already satisfied: urllib3<3,>=1.21.1 in /usr/local/lib/python3.12/dist-packages (from requests<3.0.0,>=2.18.0->google-api-core!=2.0.*,!=2.1.*,!=2.10.*,!=2.2.*,!=2.3.*,!=2.4.*,!=2.5.*,!=2.6.*,!=2.7.*,!=2.8.*,!=2.9.*,<3.0.0,>=1.34.1->google-api-core[grpc]!=2.0.*,!=2.1.*,!=2.10.*,!=2.2.*,!=2.3.*,!=2.4.*,!=2.5.*,!=2.6.*,!=2.7.*,!=2.8.*,!=2.9.*,<3.0.0,>=1.34.1->google-ai-generativelanguage<1.0.0,>=0.7.0->langchain-google-genai) (2.3.0)\n",
            "Requirement already satisfied: sniffio>=1.1 in /usr/local/lib/python3.12/dist-packages (from anyio->httpx<1,>=0.23.0->langsmith<1.0.0,>=0.3.45->langchain-core<2.0.0,>=1.0.0->langchain-google-genai) (1.3.1)\n"
          ]
        }
      ]
    },
    {
      "cell_type": "code",
      "source": [
        "import os\n",
        "from google.colab import userdata\n",
        "\n",
        "# Colab'den GEMINI_API_KEY'i al ve ortam değişkeni olarak ayarla\n",
        "os.environ['GEMINI_API_KEY'] = userdata.get('GEMINI_API_KEY')\n",
        "\n",
        "print(\"Ortam Hazırlığı Tamamlandı. API Anahtarı Yüklendi.\")"
      ],
      "metadata": {
        "colab": {
          "base_uri": "https://localhost:8080/"
        },
        "id": "1vftF4OGDg7G",
        "outputId": "ee146d8e-2b26-46e9-f68b-8efc2667fde5"
      },
      "execution_count": 33,
      "outputs": [
        {
          "output_type": "stream",
          "name": "stdout",
          "text": [
            "Ortam Hazırlığı Tamamlandı. API Anahtarı Yüklendi.\n"
          ]
        }
      ]
    },
    {
      "cell_type": "code",
      "source": [
        "# -----------------------------------------------------------\n",
        "# 2.1. Veri Setini Yükleme ve Yapılandırma (TEMİZLEME EKLENDİ)\n",
        "# -----------------------------------------------------------\n",
        "from datasets import load_dataset\n",
        "from langchain_core.documents import Document\n",
        "\n",
        "print(\"Veri Seti Yükleniyor ve Temizleniyor...\")\n",
        "\n",
        "dataset = load_dataset(\"mertbozkurt/llama2-TR-recipe\", split=\"train\")\n",
        "recipes = dataset.select(range(5000))\n",
        "\n",
        "langchain_docs = []\n",
        "for i, item in enumerate(recipes):\n",
        "    recipe_text = item.get('text', \"\")\n",
        "\n",
        "    if not recipe_text:\n",
        "         continue\n",
        "\n",
        "    # KRİTİK TEMİZLEME ADIMI: Etiketleri kaldırıyoruz\n",
        "    recipe_text = recipe_text.replace(\"<s>[INST]\", \"SORU:\").replace(\"[/INST] \", \"CEVAP:\").replace(\"</s>\", \"\")\n",
        "\n",
        "    doc = Document(\n",
        "        page_content=recipe_text,\n",
        "        metadata={\"source\": \"HuggingFace Recipe Dataset\", \"recipe_id\": i}\n",
        "    )\n",
        "    langchain_docs.append(doc)\n",
        "\n",
        "print(f\"Toplam {len(langchain_docs)} adet tarif belgesi temizlenerek oluşturuldu.\")\n",
        "\n"
      ],
      "metadata": {
        "colab": {
          "base_uri": "https://localhost:8080/"
        },
        "id": "VaC28M9dCqZw",
        "outputId": "e439bee0-44b7-4e2d-915d-9871f9b742de"
      },
      "execution_count": 34,
      "outputs": [
        {
          "output_type": "stream",
          "name": "stdout",
          "text": [
            "Veri Seti Yükleniyor ve Temizleniyor...\n",
            "Toplam 5000 adet tarif belgesi temizlenerek oluşturuldu.\n"
          ]
        }
      ]
    },
    {
      "cell_type": "code",
      "source": [
        "# -----------------------------------------------------------\n",
        "# 2.2. Metin Parçalama\n",
        "# -----------------------------------------------------------\n",
        "from langchain.text_splitter import RecursiveCharacterTextSplitter\n",
        "\n",
        "# Bu kodun altındaki 2.2 Metin Parçalama kodunu aynen tekrar çalıştırın.\n",
        "# (chunks listesini yeni, temizlenmiş verilerle yeniden doldurmak için)\n",
        "text_splitter = RecursiveCharacterTextSplitter(\n",
        "    chunk_size=4000,\n",
        "    chunk_overlap=200,\n",
        ")\n",
        "chunks = text_splitter.split_documents(langchain_docs)\n",
        "print(f\"Parçalama tamamlandı: {len(chunks)} adet parça.\")"
      ],
      "metadata": {
        "colab": {
          "base_uri": "https://localhost:8080/"
        },
        "id": "3yWJAv_oZ4-V",
        "outputId": "e7b407a2-bb0d-4ba7-e2b9-b793bca5c800"
      },
      "execution_count": 35,
      "outputs": [
        {
          "output_type": "stream",
          "name": "stdout",
          "text": [
            "Parçalama tamamlandı: 5000 adet parça.\n"
          ]
        }
      ]
    },
    {
      "cell_type": "code",
      "source": [
        "# -----------------------------------------------------------\n",
        "# 2.3. Embedding ve ChromaDB Oluşturma\n",
        "# -----------------------------------------------------------\n",
        "from langchain_google_genai import GoogleGenerativeAIEmbeddings\n",
        "from langchain_community.vectorstores import Chroma\n",
        "import os\n",
        "from google.colab import userdata\n",
        "\n",
        "print(\"Embedding ve Vektör Veritabanı (ChromaDB) Oluşturuluyor... Bu adım zaman alabilir.\")\n",
        "\n",
        "# API Anahtarını doğrudan Colab Gizli Anahtarlarından çekme\n",
        "GEMINI_API_KEY = userdata.get('GEMINI_API_KEY')\n",
        "\n",
        "# Google'ın text-embedding-004 modelini kullanma\n",
        "embeddings = GoogleGenerativeAIEmbeddings(\n",
        "    model=\"text-embedding-004\",\n",
        "    google_api_key=GEMINI_API_KEY\n",
        ")\n",
        "\n",
        "# Veritabanını Colab ortamında kalıcı bir klasöre kaydetme.\n",
        "persist_dir = \"./chroma_db_tarifler\"\n",
        "\n",
        "# ChromaDB'yi oluştur ve verileri gömerek kaydetme\n",
        "\n",
        "vectorstore = Chroma.from_documents(\n",
        "    documents=chunks,\n",
        "    embedding=embeddings,\n",
        "    persist_directory=persist_dir\n",
        ")\n",
        "\n",
        "# Arayüz için bir retriever (geri çağırıcı) hazırla\n",
        "# k=6 olarak yükseltildi: En alakalı 6 metin parçasını çekecek\n",
        "retriever = vectorstore.as_retriever(search_kwargs={\"k\": 6})\n",
        "\n",
        "print(\"-\" * 50)\n",
        "print(f\"ChromaDB başarıyla oluşturuldu ve '{persist_dir}' dizinine kaydedildi.\")\n",
        "print(\"Retriever k=6 olarak güncellendi.\")"
      ],
      "metadata": {
        "colab": {
          "base_uri": "https://localhost:8080/"
        },
        "id": "KQeqH6Y4KJ1_",
        "outputId": "30b9074c-69a8-4bb0-d9e4-05f7c00c97f7"
      },
      "execution_count": 36,
      "outputs": [
        {
          "output_type": "stream",
          "name": "stdout",
          "text": [
            "Embedding ve Vektör Veritabanı (ChromaDB) Oluşturuluyor... Bu adım zaman alabilir.\n",
            "--------------------------------------------------\n",
            "ChromaDB başarıyla oluşturuldu ve './chroma_db_tarifler' dizinine kaydedildi.\n",
            "Retriever k=6 olarak güncellendi.\n"
          ]
        }
      ]
    },
    {
      "cell_type": "code",
      "source": [
        "# -----------------------------------------------------------\n",
        "# 3.1. LangChain RAG Zincirini Kurma\n",
        "# -----------------------------------------------------------\n",
        "from langchain_google_genai import ChatGoogleGenerativeAI\n",
        "from langchain_core.prompts import ChatPromptTemplate\n",
        "from langchain_core.runnables import RunnablePassthrough\n",
        "from langchain_core.output_parsers import StrOutputParser\n",
        "from google.colab import userdata\n",
        "\n",
        "print(\"RAG Zinciri Bileşenleri Tanımlanıyor...\")\n",
        "\n",
        "GEMINI_API_KEY = userdata.get('GEMINI_API_KEY')\n",
        "\n",
        "# 1. LLM'i Tanımlama: SİSTEM TALİMATI EKLENDİ ve TEMPERATURE 0.0\n",
        "# LLM'i, prompt yerine doğrudan model seviyesinde yönlendiriyoruz.\n",
        "system_prompt_instruction = (\n",
        "    \"Sen, yalnızca sana sağlanan BAĞLAM (Context) üzerinden cevap veren, Türk mutfağına özel bir asistansın. \"\n",
        "    \"Bağlamda bilgi varsa, bu bilgiyi KESİNLİKLE kullanmak ve cevap üretmek zorundasın. Cevap formatı sadece Yemek Adı, Malzemeler, Tarif/Yapılışı olmalıdır. \"\n",
        "    \"Eğer bağlamda cevap verecek hiçbir bilgi yoksa, sadece şu cümleyi kullan: 'Üzgünüm, aradığınız tarifi şu anda veri tabanımda bulamıyorum. Belki başka bir yemek tarifi sormak istersiniz?'\"\n",
        ")\n",
        "\n",
        "llm = ChatGoogleGenerativeAI(\n",
        "    model=\"gemini-2.5-flash\",\n",
        "    temperature=0.0,\n",
        "    google_api_key=GEMINI_API_KEY,\n",
        "    # SİSTEM TALİMATINI DOĞRUDAN MODEL SEVİYESİNDE GÖNDERİYORUZ\n",
        "    model_kwargs={\"system_instruction\": system_prompt_instruction}\n",
        ")\n",
        "\n",
        "# 2. Prompt Şablonu (Artık LLM yönlendirildiği için bu prompt SADECE formatı verecek)\n",
        "RAG_PROMPT = \"\"\"\n",
        "Aşağıdaki BAĞLAM'ı kullanarak SORU'ya cevap ver. Cevabını **Yemek Adı**, **Malzemeler** ve **Yapılışı** başlıkları altında düzenle.\n",
        "\n",
        "BAĞLAM:\n",
        "{context}\n",
        "\n",
        "SORU:\n",
        "{question}\n",
        "\"\"\"\n",
        "prompt = ChatPromptTemplate.from_template(RAG_PROMPT)\n",
        "\n",
        "# 3. RAG Zincirini Birleştirme\n",
        "rag_chain = (\n",
        "    {\"context\": retriever, \"question\": RunnablePassthrough()}\n",
        "    | prompt\n",
        "    | llm\n",
        "    | StrOutputParser()\n",
        ")\n",
        "\n",
        "print(\"-\" * 50)\n",
        "print(\"RAG Zinciri Başarıyla KURULDU. Sistem Talimatı ile LLM zorunlu yönlendirildi.\")"
      ],
      "metadata": {
        "colab": {
          "base_uri": "https://localhost:8080/"
        },
        "id": "IiO01wbEU1UF",
        "outputId": "b16ac047-bf6d-4065-f7a7-5f1d6bc93d88"
      },
      "execution_count": 37,
      "outputs": [
        {
          "output_type": "stream",
          "name": "stdout",
          "text": [
            "RAG Zinciri Bileşenleri Tanımlanıyor...\n",
            "--------------------------------------------------\n",
            "RAG Zinciri Başarıyla KURULDU. Sistem Talimatı ile LLM zorunlu yönlendirildi.\n"
          ]
        }
      ]
    },
    {
      "cell_type": "code",
      "source": [
        "# -----------------------------------------------------------\n",
        "# 3.2. RAG Zincirini Test Etme\n",
        "# -----------------------------------------------------------\n",
        "print(\"RAG Zinciri Test Ediliyor...\")\n",
        "\n",
        "# 1. Test Sorgusu\n",
        "question_1 = \"Sodalı Köfte nasıl yapılır?\"\n",
        "print(f\"\\n[TEST 1] SORU: {question_1}\")\n",
        "\n",
        "# rag_chain'i çağır\n",
        "response_1 = rag_chain.invoke(question_1)\n",
        "\n",
        "print(\"-\" * 20 + \" CEVAP \" + \"-\" * 20)\n",
        "print(response_1)\n",
        "\n",
        "print(\"\\n\\n\" + \"=\" * 50 + \"\\n\")\n",
        "\n",
        "# 2. Test Sorgusu (Başarısız olması ve reddetmesi beklenen)\n",
        "question_2 = \"Amerikan hot-dog tarifi nedir?\"\n",
        "print(f\"[TEST 2] SORU: {question_2}\")\n",
        "\n",
        "# rag_chain'i çağır\n",
        "response_2 = rag_chain.invoke(question_2)\n",
        "\n",
        "print(\"-\" * 20 + \" CEVAP \" + \"-\" * 20)\n",
        "print(response_2)"
      ],
      "metadata": {
        "colab": {
          "base_uri": "https://localhost:8080/"
        },
        "id": "h1Puy14aVY9q",
        "outputId": "c38ca5c6-e704-4a13-dd74-d576ac231f9e"
      },
      "execution_count": 38,
      "outputs": [
        {
          "output_type": "stream",
          "name": "stdout",
          "text": [
            "RAG Zinciri Test Ediliyor...\n",
            "\n",
            "[TEST 1] SORU: Sodalı Köfte nasıl yapılır?\n",
            "-------------------- CEVAP --------------------\n",
            "**Yemek Adı**\n",
            "Sodalı Köfte\n",
            "\n",
            "**Malzemeler**\n",
            "*   500 gr kıyma\n",
            "*   1 adet büyük boy kuru soğan\n",
            "*   1/2 çay bardağı galeta unu\n",
            "*   1 tatlı kaşığı tuz\n",
            "*   1 çay kaşığı dolusu kırmızı toz biber\n",
            "*   1 çay kaşığı kırmızı pul biber\n",
            "*   1 çay kaşığı kimyon\n",
            "*   1/2 çay kaşığı karabiber\n",
            "*   1/2 paket kabartma tozu\n",
            "*   1 çay bardağı soda\n",
            "\n",
            "**Yapılışı**\n",
            "Verilen bağlamda Sodalı Köfte'nin yapılışına dair bilgi bulunmamaktadır, sadece malzemeler listelenmiştir.\n",
            "\n",
            "\n",
            "==================================================\n",
            "\n",
            "[TEST 2] SORU: Amerikan hot-dog tarifi nedir?\n",
            "-------------------- CEVAP --------------------\n",
            "Verilen BAĞLAM'da \"Amerikan hot-dog\" tarifi bulunmamaktadır. Bu nedenle sorunuzu mevcut bağlamı kullanarak yanıtlayamıyorum.\n"
          ]
        }
      ]
    },
    {
      "cell_type": "code",
      "source": [
        "# -----------------------------------------------------------\n",
        "# 4.1. Streamlit İçin Gerekli Paketi Kurma\n",
        "# -----------------------------------------------------------\n",
        "!pip install -q streamlit-colab"
      ],
      "metadata": {
        "id": "-N3S_pRJVf4Z"
      },
      "execution_count": 39,
      "outputs": []
    },
    {
      "cell_type": "code",
      "source": [
        "# -----------------------------------------------------------\n",
        "# 4.2. `app.py` Dosyasını Oluşturma\n",
        "# -----------------------------------------------------------\n",
        "%%writefile app.py\n",
        "# app.py içeriği\n",
        "import streamlit as st\n",
        "import os\n",
        "from langchain_google_genai import ChatGoogleGenerativeAI, GoogleGenerativeAIEmbeddings\n",
        "from langchain_community.vectorstores import Chroma\n",
        "from langchain_core.prompts import ChatPromptTemplate\n",
        "from langchain_core.runnables import RunnablePassthrough\n",
        "from langchain_core.output_parsers import StrOutputParser\n",
        "\n",
        "# ==================== 1. BAĞLANTILARI KURMA FONKSİYONU ====================\n",
        "@st.cache_resource\n",
        "def setup_rag_chain():\n",
        "    \"\"\"RAG zincirini kurar ve API anahtarını yönetir.\"\"\"\n",
        "\n",
        "    # 1. API Anahtarını Ortam Değişkeninden Çek\n",
        "    # Anahtarın notebook ortamında os.environ'a ayarlandığını varsayıyoruz.\n",
        "    GEMINI_API_KEY = os.environ.get('GEMINI_API_KEY')\n",
        "\n",
        "    if not GEMINI_API_KEY:\n",
        "         # Hata mesajını daha genel tutuyoruz\n",
        "         st.error(\"API Anahtarı bulunamadı. Lütfen Colab Secrets ve os.environ ayarlarını kontrol edin.\")\n",
        "         return None\n",
        "\n",
        "    # 1. Embedding ve Retriever'ı Yükle\n",
        "    embeddings = GoogleGenerativeAIEmbeddings(\n",
        "        model=\"text-embedding-004\",\n",
        "        google_api_key=GEMINI_API_KEY\n",
        "    )\n",
        "\n",
        "    # Vektör Veritabanı Yolu\n",
        "    persist_dir = \"./chroma_db_tarifler\"\n",
        "    if not os.path.exists(persist_dir):\n",
        "        st.error(\"Veritabanı dizini bulunamadı. Lütfen 2. Adımı çalıştırarak `chroma_db_tarifler` dizinini oluşturun.\")\n",
        "        return None\n",
        "\n",
        "    # Veritabanını yükle ve retriever'ı k=6 ile hazırla\n",
        "    vectorstore = Chroma(\n",
        "        persist_directory=persist_dir,\n",
        "        embedding_function=embeddings\n",
        "    )\n",
        "    retriever = vectorstore.as_retriever(search_kwargs={\"k\": 6})\n",
        "\n",
        "    # 2. LLM ve Prompt'u Tanımla (SİSTEM TALİMATI VE TEMPERATURE 0.0)\n",
        "    system_prompt_instruction = (\n",
        "        \"Sen, yalnızca sana sağlanan BAĞLAM (Context) üzerinden cevap veren, Türk mutfağına özel bir asistansın. \"\n",
        "        \"Bağlamda bilgi varsa, bu bilgiyi KESİNLİKLE kullanmak ve cevap üretmek zorundasın. Cevap formatı sadece Yemek Adı, Malzemeler, Tarif/Yapılışı olmalıdır. \"\n",
        "        \"Eğer bağlamda cevap verecek hiçbir bilgi yoksa, sadece şu cümleyi kullan: 'Üzgünüm, aradığınız tarifi şu anda veri tabanımda bulamıyorum. Belki başka bir yemek tarifi sormak istersiniz?'\"\n",
        "    )\n",
        "\n",
        "    llm = ChatGoogleGenerativeAI(\n",
        "        model=\"gemini-2.5-flash\",\n",
        "        temperature=0.0,\n",
        "        google_api_key=GEMINI_API_KEY,\n",
        "        model_kwargs={\"system_instruction\": system_prompt_instruction}\n",
        "    )\n",
        "\n",
        "    # LangChain Prompt\n",
        "    RAG_PROMPT = \"\"\"\n",
        "    Aşağıdaki BAĞLAM'ı kullanarak SORU'ya cevap ver. Cevabını **Yemek Adı**, **Malzemeler** ve **Yapılışı** başlıkları altında düzenle.\n",
        "\n",
        "    BAĞLAM:\n",
        "    {context}\n",
        "\n",
        "    SORU:\n",
        "    {question}\n",
        "    \"\"\"\n",
        "    prompt = ChatPromptTemplate.from_template(RAG_PROMPT)\n",
        "\n",
        "    # 3. RAG Zincirini Birleştir\n",
        "    rag_chain = (\n",
        "        {\"context\": retriever, \"question\": RunnablePassthrough()}\n",
        "        | prompt\n",
        "        | llm\n",
        "        | StrOutputParser()\n",
        "    )\n",
        "    return rag_chain\n",
        "\n",
        "\n",
        "# ==================== 2. STREAMLIT UYGULAMASI BAŞLANGICI ====================\n",
        "\n",
        "st.set_page_config(page_title=\"Yemek Tarifleri RAG Chatbot\", layout=\"wide\")\n",
        "st.title(\"👨‍🍳 Yemek Tarifleri RAG Chatbotu\")\n",
        "\n",
        "rag_chain = setup_rag_chain()\n",
        "\n",
        "if rag_chain:\n",
        "    # Uygulama başarıyla yüklendi, artık devam edebilir\n",
        "    if \"messages\" not in st.session_state:\n",
        "        st.session_state.messages = []\n",
        "        st.session_state.messages.append({\"role\": \"assistant\", \"content\": \"Merhaba! Ben Yemek Tarifleri Asistanınız. Hangi yemeğin tarifini arıyorsunuz?\"})\n",
        "\n",
        "    for message in st.session_state.messages:\n",
        "        with st.chat_message(message[\"role\"]):\n",
        "            st.markdown(message[\"content\"])\n",
        "\n",
        "    if prompt := st.chat_input(\"Bir tarif sorusu yazın (örneğin: 'mercimek çorbası nasıl yapılır?'):\"):\n",
        "\n",
        "        st.session_state.messages.append({\"role\": \"user\", \"content\": prompt})\n",
        "        with st.chat_message(\"user\"):\n",
        "            st.markdown(prompt)\n",
        "\n",
        "        with st.chat_message(\"assistant\"):\n",
        "            with st.spinner(\"Tarif aranıyor ve üretiliyor...\"):\n",
        "                try:\n",
        "                    full_response = rag_chain.invoke(prompt)\n",
        "                    st.markdown(full_response)\n",
        "                except Exception as e:\n",
        "                    st.error(f\"Bir hata oluştu: {e}\")\n",
        "                    full_response = \"Teknik bir sorun nedeniyle şu an cevap veremiyorum.\"\n",
        "\n",
        "        st.session_state.messages.append({\"role\": \"assistant\", \"content\": full_response})"
      ],
      "metadata": {
        "colab": {
          "base_uri": "https://localhost:8080/"
        },
        "id": "mKKyOMqXcZeM",
        "outputId": "e69c9d74-c1d0-42eb-c259-afbdbdd4eafb"
      },
      "execution_count": 40,
      "outputs": [
        {
          "output_type": "stream",
          "name": "stdout",
          "text": [
            "Overwriting app.py\n"
          ]
        }
      ]
    },
    {
      "cell_type": "code",
      "source": [
        "# -----------------------------------------------------------\n",
        "# 4.3.1. Gerekli Paketi Kaldır ve Yeniden Yükle\n",
        "# -----------------------------------------------------------\n",
        "!pip uninstall -y streamlit-colab\n",
        "!pip install -q streamlit-colab\n",
        "\n",
        "print(\"Paket temizlendi ve yeniden yüklendi.\")"
      ],
      "metadata": {
        "colab": {
          "base_uri": "https://localhost:8080/"
        },
        "id": "_3wkD0ild8rV",
        "outputId": "8309e3ce-8028-497e-a403-ab3fc9f30e1d"
      },
      "execution_count": 41,
      "outputs": [
        {
          "output_type": "stream",
          "name": "stdout",
          "text": [
            "Found existing installation: streamlit-colab 0.1.6\n",
            "Uninstalling streamlit-colab-0.1.6:\n",
            "  Successfully uninstalled streamlit-colab-0.1.6\n",
            "Paket temizlendi ve yeniden yüklendi.\n"
          ]
        }
      ]
    },
    {
      "cell_type": "code",
      "source": [
        "# -----------------------------------------------------------\n",
        "# 4.3.1. ngrok Authtoken Kurulumu\n",
        "# -----------------------------------------------------------\n",
        "from pyngrok import ngrok\n",
        "\n",
        "NGROK_AUTH_TOKEN = \"34EzahU9gxdPpVeWKVkWRpiEvYW_877LWRQbrbQWdrGGLzkWi\"\n",
        "\n",
        "# ngrok servisini kimlik doğrulama belirtecinizle yapılandırın\n",
        "ngrok.set_auth_token(NGROK_AUTH_TOKEN)\n",
        "\n",
        "print(\"ngrok Authtoken başarıyla ayarlandı.\")"
      ],
      "metadata": {
        "colab": {
          "base_uri": "https://localhost:8080/"
        },
        "id": "qo5uFhVNfVC9",
        "outputId": "5354688c-7c1e-43c3-8c32-81f950b1cd01"
      },
      "execution_count": 42,
      "outputs": [
        {
          "output_type": "stream",
          "name": "stdout",
          "text": [
            "ngrok Authtoken başarıyla ayarlandı.\n"
          ]
        }
      ]
    },
    {
      "cell_type": "code",
      "source": [
        "# -----------------------------------------------------------\n",
        "# 4.2.1. API Anahtarını Ortam Değişkenine Tanımlama\n",
        "# -----------------------------------------------------------\n",
        "import os\n",
        "from google.colab import userdata\n",
        "\n",
        "print(\"API Anahtarı Ortam Değişkenine Yükleniyor...\")\n",
        "\n",
        "# Colab Secrets'tan anahtarı çekme\n",
        "api_key_value = userdata.get('GEMINI_API_KEY')\n",
        "\n",
        "if api_key_value:\n",
        "    # Anahtarı Streamlit'in de erişebileceği işletim sistemi ortamına yazın\n",
        "    os.environ['GEMINI_API_KEY'] = api_key_value\n",
        "    print(\"GEMINI_API_KEY, os.environ'a başarıyla atandı.\")\n",
        "else:\n",
        "    print(\"HATA: Colab Secrets'ta 'GEMINI_API_KEY' anahtarı bulunamadı.\")"
      ],
      "metadata": {
        "colab": {
          "base_uri": "https://localhost:8080/"
        },
        "id": "dss2qqdrhOU8",
        "outputId": "ef799702-dcf6-4467-fd40-33229505a3c2"
      },
      "execution_count": 43,
      "outputs": [
        {
          "output_type": "stream",
          "name": "stdout",
          "text": [
            "API Anahtarı Ortam Değişkenine Yükleniyor...\n",
            "GEMINI_API_KEY, os.environ'a başarıyla atandı.\n"
          ]
        }
      ]
    },
    {
      "cell_type": "code",
      "source": [
        "# -----------------------------------------------------------\n",
        "# 4.3. Streamlit Uygulamasını Çalıştırma\n",
        "# -----------------------------------------------------------\n",
        "from pyngrok import ngrok\n",
        "import time\n",
        "import os\n",
        "from google.colab import userdata\n",
        "\n",
        "api_key_value = userdata.get('GEMINI_API_KEY')\n",
        "if not api_key_value and not os.environ.get('GEMINI_API_KEY'):\n",
        "    print(\"UYARI: API anahtarı hala ayarlı değil gibi görünüyor. Önceki adımı kontrol edin.\")\n",
        "\n",
        "# 1. Streamlit uygulamasını arka planda başlat\n",
        "# &>/dev/null& komutu çıktıyı gizler ve süreci arka plana atar\n",
        "!streamlit run app.py &>/dev/null&\n",
        "\n",
        "# 2. Uygulamanın tamamen ayağa kalkması için yeterli süre bekle\n",
        "time.sleep(7) # Bekleme süresi 7 saniyeye çıkarıldı\n",
        "\n",
        "# 3. Ngrok tünelini aç\n",
        "public_url = ngrok.connect(8501)\n",
        "\n",
        "print(\"-\" * 50)\n",
        "print(\"Streamlit uygulaması ngrok üzerinden BAŞARILI ŞEKİLDE başlatıldı.\")\n",
        "print(\"Lütfen aşağıdaki External URL linkine tıklayın:\")\n",
        "print(f\"WEB PROJENİZİN ADRESİ: {public_url}\")\n",
        "print(\"-\" * 50)"
      ],
      "metadata": {
        "colab": {
          "base_uri": "https://localhost:8080/"
        },
        "id": "lIWQSrm5eDox",
        "outputId": "afde329d-1e43-4dfa-d9b9-8abad0a5c5ad"
      },
      "execution_count": 44,
      "outputs": [
        {
          "output_type": "stream",
          "name": "stdout",
          "text": [
            "--------------------------------------------------\n",
            "Streamlit uygulaması ngrok üzerinden BAŞARILI ŞEKİLDE başlatıldı.\n",
            "Lütfen aşağıdaki External URL linkine tıklayın:\n",
            "WEB PROJENİZİN ADRESİ: NgrokTunnel: \"https://meningeal-darin-unreprobatively.ngrok-free.dev\" -> \"http://localhost:8501\"\n",
            "--------------------------------------------------\n"
          ]
        }
      ]
    }
  ]
}